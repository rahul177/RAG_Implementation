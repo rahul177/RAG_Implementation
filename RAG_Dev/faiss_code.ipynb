{
 "cells": [
  {
   "cell_type": "code",
   "execution_count": null,
   "id": "9d930599",
   "metadata": {},
   "outputs": [],
   "source": [
    "!pip install faiss-cpu\n",
    "!pip install faiss-gpu"
   ]
  },
  {
   "cell_type": "code",
   "execution_count": null,
   "id": "df106266",
   "metadata": {},
   "outputs": [],
   "source": [
    "import faiss\n",
    "import numpy as np"
   ]
  },
  {
   "cell_type": "code",
   "execution_count": null,
   "id": "e6ef7900",
   "metadata": {},
   "outputs": [],
   "source": [
    "# Example data: 1000 vectors of dimension 128\n",
    "d = 128  # Dimensionality\n",
    "n = 1000  # Number of vectors\n",
    "data = np.random.random((n, d)).astype('float32')"
   ]
  },
  {
   "cell_type": "code",
   "execution_count": null,
   "id": "e3428f1d",
   "metadata": {},
   "outputs": [],
   "source": [
    "index = faiss.IndexFlatL2(d)  # L2 distance for similarity\n",
    "print(\"Is trained:\", index.is_trained)  # True for FlatL2"
   ]
  },
  {
   "cell_type": "code",
   "execution_count": null,
   "id": "610d9d2c",
   "metadata": {},
   "outputs": [],
   "source": [
    "nlist = 100  # Number of clusters\n",
    "quantizer = faiss.IndexFlatL2(d)  # Base index for clustering\n",
    "index = faiss.IndexIVFFlat(quantizer, d, nlist, faiss.METRIC_L2)\n",
    "index.train(data)  # Train the index\n",
    "print(\"Is trained:\", index.is_trained)  # Should print True"
   ]
  },
  {
   "cell_type": "code",
   "execution_count": null,
   "id": "1ed89d11",
   "metadata": {},
   "outputs": [],
   "source": [
    "res = faiss.StandardGpuResources()  # Initialize GPU resources\n",
    "gpu_index = faiss.index_cpu_to_gpu(res, 0, index)  # 0 is the GPU ID"
   ]
  },
  {
   "cell_type": "code",
   "execution_count": null,
   "id": "12cf6df8",
   "metadata": {},
   "outputs": [],
   "source": [
    "index.add(data)  # Add vectors to the index\n",
    "print(\"Number of vectors in the index:\", index.ntotal)  # Should be 1000\n"
   ]
  },
  {
   "cell_type": "code",
   "execution_count": null,
   "id": "ea5a5389",
   "metadata": {},
   "outputs": [],
   "source": [
    "query = np.random.random((5, d)).astype('float32')  # 5 query vectors\n",
    "k = 10  # Number of nearest neighbors to return\n",
    "distances, indices = index.search(query, k)\n",
    "\n",
    "print(\"Distances:\", distances)  # Distances to the nearest neighbors\n",
    "print(\"Indices:\", indices)  # Indices of the nearest neighbors\n"
   ]
  },
  {
   "cell_type": "code",
   "execution_count": null,
   "id": "5d055923",
   "metadata": {},
   "outputs": [],
   "source": [
    "# Save the index\n",
    "faiss.write_index(index, \"index_file.faiss\")\n",
    "\n",
    "# Load the index\n",
    "index_loaded = faiss.read_index(\"index_file.faiss\")\n"
   ]
  }
 ],
 "metadata": {
  "kernelspec": {
   "display_name": "Python 3",
   "language": "python",
   "name": "python3"
  },
  "language_info": {
   "codemirror_mode": {
    "name": "ipython",
    "version": 3
   },
   "file_extension": ".py",
   "mimetype": "text/x-python",
   "name": "python",
   "nbconvert_exporter": "python",
   "pygments_lexer": "ipython3",
   "version": "3.8.8"
  }
 },
 "nbformat": 4,
 "nbformat_minor": 5
}
