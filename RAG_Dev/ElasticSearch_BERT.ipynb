{
 "cells": [
  {
   "cell_type": "code",
   "execution_count": null,
   "id": "144dd02f",
   "metadata": {},
   "outputs": [],
   "source": [
    "from elasticsearch import Elasticsearch\n",
    "\n",
    "# Initialize Elastic Search client\n",
    "es = Elasticsearch()\n",
    "\n",
    "# Example documents\n",
    "documents = [\n",
    "    {\"id\": 1, \"text\": \"What is semantic search?\", \"metadata\": {\"category\": \"AI\"}},\n",
    "    {\"id\": 2, \"text\": \"How does Elastic Search work?\", \"metadata\": {\"category\": \"Search\"}}\n",
    "]\n",
    "\n",
    "# Index documents\n",
    "for doc in documents:\n",
    "    es.index(index=\"documents\", id=doc[\"id\"], document=doc)\n"
   ]
  },
  {
   "cell_type": "code",
   "execution_count": null,
   "id": "2955a769",
   "metadata": {},
   "outputs": [],
   "source": [
    "from transformers import AutoTokenizer, AutoModel\n",
    "import numpy as np\n",
    "\n",
    "# Load pre-trained BERT model and tokenizer\n",
    "model_name = \"sentence-transformers/all-MiniLM-L6-v2\"\n",
    "tokenizer = AutoTokenizer.from_pretrained(model_name)\n",
    "model = AutoModel.from_pretrained(model_name)\n",
    "\n",
    "# Generate embeddings\n",
    "texts = [\"What is semantic search?\", \"How does Elastic Search work?\"]\n",
    "inputs = tokenizer(texts, return_tensors=\"pt\", padding=True, truncation=True)\n",
    "with torch.no_grad():\n",
    "    embeddings = model(**inputs).pooler_output.numpy()\n",
    "\n",
    "# Store embeddings\n",
    "embeddings_map = {i + 1: embeddings[i] for i in range(len(texts))}\n"
   ]
  },
  {
   "cell_type": "code",
   "execution_count": null,
   "id": "594a57da",
   "metadata": {},
   "outputs": [],
   "source": [
    "query = \"semantic search\"\n",
    "response = es.search(index=\"documents\", query={\"match\": {\"text\": query}})\n",
    "es_results = response[\"hits\"][\"hits\"]  # Retrieve document IDs and scores"
   ]
  },
  {
   "cell_type": "code",
   "execution_count": null,
   "id": "411cfaea",
   "metadata": {},
   "outputs": [],
   "source": [
    "from sklearn.metrics.pairwise import cosine_similarity\n",
    "\n",
    "# Generate query embedding\n",
    "query_inputs = tokenizer(query, return_tensors=\"pt\", padding=True, truncation=True)\n",
    "with torch.no_grad():\n",
    "    query_embedding = model(**query_inputs).pooler_output.numpy()\n",
    "\n",
    "# Compute cosine similarity\n",
    "similarities = cosine_similarity(query_embedding, np.vstack(list(embeddings_map.values())))\n",
    "ranked_ids = np.argsort(similarities[0])[::-1]  # Rank document IDs by similarity\n",
    "bert_results = [{\"id\": list(embeddings_map.keys())[i], \"score\": similarities[0][i]} for i in ranked_ids]\n"
   ]
  },
  {
   "cell_type": "code",
   "execution_count": null,
   "id": "bd4250f0",
   "metadata": {},
   "outputs": [],
   "source": [
    "def combine_results(es_results, bert_results, es_weight=0.5, bert_weight=0.5):\n",
    "    # Create a dictionary to store combined scores\n",
    "    combined_scores = {}\n",
    "\n",
    "    # Add Elastic Search results\n",
    "    for res in es_results:\n",
    "        doc_id = int(res[\"_id\"])\n",
    "        combined_scores[doc_id] = es_weight * res[\"_score\"]\n",
    "\n",
    "    # Add BERT results\n",
    "    for res in bert_results:\n",
    "        doc_id = res[\"id\"]\n",
    "        combined_scores[doc_id] = combined_scores.get(doc_id, 0) + bert_weight * res[\"score\"]\n",
    "\n",
    "    # Sort results by combined score\n",
    "    return sorted(combined_scores.items(), key=lambda x: x[1], reverse=True)\n",
    "\n",
    "final_results = combine_results(es_results, bert_results)\n"
   ]
  },
  {
   "cell_type": "code",
   "execution_count": null,
   "id": "2bf73f26",
   "metadata": {},
   "outputs": [],
   "source": [
    "for doc_id, score in final_results:\n",
    "    print(f\"Document ID: {doc_id}, Score: {score}\")\n"
   ]
  }
 ],
 "metadata": {
  "kernelspec": {
   "display_name": "Python 3",
   "language": "python",
   "name": "python3"
  },
  "language_info": {
   "codemirror_mode": {
    "name": "ipython",
    "version": 3
   },
   "file_extension": ".py",
   "mimetype": "text/x-python",
   "name": "python",
   "nbconvert_exporter": "python",
   "pygments_lexer": "ipython3",
   "version": "3.8.8"
  }
 },
 "nbformat": 4,
 "nbformat_minor": 5
}
