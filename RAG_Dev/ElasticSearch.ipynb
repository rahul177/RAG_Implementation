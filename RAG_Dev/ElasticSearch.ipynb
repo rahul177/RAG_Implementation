{
 "cells": [
  {
   "cell_type": "code",
   "execution_count": null,
   "id": "44eaecf7",
   "metadata": {},
   "outputs": [],
   "source": [
    "!pip install elasticsearch"
   ]
  },
  {
   "cell_type": "code",
   "execution_count": null,
   "id": "306920de",
   "metadata": {},
   "outputs": [],
   "source": [
    "from elasticsearch import Elasticsearch\n",
    "\n",
    "# Connect to Elasticsearch (Default: localhost:9200)\n",
    "es = Elasticsearch(hosts=[\"http://localhost:9200\"])\n",
    "\n",
    "# Test connection\n",
    "if es.ping():\n",
    "    print(\"Connected to Elasticsearch!\")\n",
    "else:\n",
    "    print(\"Failed to connect.\")\n"
   ]
  },
  {
   "cell_type": "code",
   "execution_count": null,
   "id": "b3c23364",
   "metadata": {},
   "outputs": [],
   "source": [
    "# Example data\n",
    "document = {\n",
    "    \"title\": \"Elasticsearch Python Example\",\n",
    "    \"content\": \"This is a tutorial on Elasticsearch Python API.\",\n",
    "    \"timestamp\": \"2024-12-31T10:00:00\"\n",
    "}\n",
    "\n",
    "# Index a document into the 'my_index' index\n",
    "response = es.index(index=\"my_index\", id=1, document=document)\n",
    "print(\"Index Response:\", response)\n"
   ]
  },
  {
   "cell_type": "code",
   "execution_count": null,
   "id": "998ab288",
   "metadata": {},
   "outputs": [],
   "source": [
    "# Search for all documents in 'my_index'\n",
    "response = es.search(index=\"my_index\", query={\"match_all\": {}})\n",
    "print(\"Search Results:\", response[\"hits\"][\"hits\"])\n"
   ]
  },
  {
   "cell_type": "code",
   "execution_count": null,
   "id": "71324ea9",
   "metadata": {},
   "outputs": [],
   "source": [
    "# Match query to find documents with 'Python' in the 'content' field\n",
    "query = {\n",
    "    \"match\": {\n",
    "        \"content\": \"Python\"\n",
    "    }\n",
    "}\n",
    "\n",
    "response = es.search(index=\"my_index\", query=query)\n",
    "print(\"Search Results:\", response[\"hits\"][\"hits\"])\n"
   ]
  },
  {
   "cell_type": "code",
   "execution_count": null,
   "id": "07622e1d",
   "metadata": {},
   "outputs": [],
   "source": [
    "# Boolean query to filter documents with 'Python' in content and a specific timestamp\n",
    "query = {\n",
    "    \"bool\": {\n",
    "        \"must\": [\n",
    "            {\"match\": {\"content\": \"Python\"}}\n",
    "        ],\n",
    "        \"filter\": [\n",
    "            {\"range\": {\"timestamp\": {\"gte\": \"2024-01-01\"}}}\n",
    "        ]\n",
    "    }\n",
    "}\n",
    "\n",
    "response = es.search(index=\"my_index\", query=query)\n",
    "print(\"Filtered Search Results:\", response[\"hits\"][\"hits\"])\n"
   ]
  },
  {
   "cell_type": "code",
   "execution_count": null,
   "id": "7e7be987",
   "metadata": {},
   "outputs": [],
   "source": [
    "# Update the document with ID 1\n",
    "update_doc = {\n",
    "    \"doc\": {\n",
    "        \"title\": \"Updated Title: Elasticsearch Python API\"\n",
    "    }\n",
    "}\n",
    "\n",
    "response = es.update(index=\"my_index\", id=1, body=update_doc)\n",
    "print(\"Update Response:\", response)\n"
   ]
  },
  {
   "cell_type": "code",
   "execution_count": null,
   "id": "ee37d12b",
   "metadata": {},
   "outputs": [],
   "source": [
    "# Delete document with ID 1\n",
    "response = es.delete(index=\"my_index\", id=1)\n",
    "print(\"Delete Response:\", response)\n"
   ]
  },
  {
   "cell_type": "code",
   "execution_count": null,
   "id": "b2436ec9",
   "metadata": {},
   "outputs": [],
   "source": [
    "# Delete all documents in 'my_index'\n",
    "response = es.delete_by_query(index=\"my_index\", body={\"query\": {\"match_all\": {}}})\n",
    "print(\"Delete All Response:\", response)\n"
   ]
  },
  {
   "cell_type": "code",
   "execution_count": null,
   "id": "bc3cd6e1",
   "metadata": {},
   "outputs": [],
   "source": [
    "# Paginate search results (2 results per page)\n",
    "query = {\"match_all\": {}}\n",
    "page_size = 2\n",
    "page_number = 1  # Change for subsequent pages\n",
    "\n",
    "response = es.search(index=\"my_index\", query=query, size=page_size, from_=(page_number - 1) * page_size)\n",
    "print(\"Paginated Results:\", response[\"hits\"][\"hits\"])"
   ]
  }
 ],
 "metadata": {
  "kernelspec": {
   "display_name": "Python 3",
   "language": "python",
   "name": "python3"
  },
  "language_info": {
   "codemirror_mode": {
    "name": "ipython",
    "version": 3
   },
   "file_extension": ".py",
   "mimetype": "text/x-python",
   "name": "python",
   "nbconvert_exporter": "python",
   "pygments_lexer": "ipython3",
   "version": "3.8.8"
  }
 },
 "nbformat": 4,
 "nbformat_minor": 5
}
