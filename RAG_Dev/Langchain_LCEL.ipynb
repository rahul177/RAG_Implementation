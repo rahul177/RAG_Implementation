{
 "cells": [
  {
   "cell_type": "code",
   "execution_count": null,
   "id": "3b4c1d37",
   "metadata": {},
   "outputs": [],
   "source": [
    "!pip install langchain\n",
    "!pip install openai\n",
    "!pip install chromadb\n",
    "!pip install tiktoken"
   ]
  },
  {
   "cell_type": "code",
   "execution_count": null,
   "id": "f34ce76c",
   "metadata": {},
   "outputs": [],
   "source": [
    "import os\n",
    "from langchain.chat_models import ChatOpenAI\n",
    "from langchain.prompts import ChatPromptTemplate\n",
    "from langchain.schema.output_parser import StrOutputParser\n",
    "\n",
    "# Set your API key\n",
    "os.environ['OPENAI_API_KEY'] = \"sk-...\"\n"
   ]
  },
  {
   "cell_type": "code",
   "execution_count": null,
   "id": "5f562ebe",
   "metadata": {},
   "outputs": [],
   "source": [
    "model = ChatOpenAI()\n",
    "output_parser = StrOutputParser()\n",
    "prompt = ChatPromptTemplate.from_template(\n",
    "    \"Create a lively and engaging product description with emojis based on these notes: \\n{product_notes}\"\n",
    ")\n"
   ]
  },
  {
   "cell_type": "code",
   "execution_count": null,
   "id": "c28f5214",
   "metadata": {},
   "outputs": [],
   "source": [
    "prompt_value = prompt.invoke({\"product_notes\": \"Multi color affordable mobile covers\"})"
   ]
  },
  {
   "cell_type": "code",
   "execution_count": null,
   "id": "17ca4162",
   "metadata": {},
   "outputs": [],
   "source": [
    "prompt_value.to_string()"
   ]
  },
  {
   "cell_type": "code",
   "execution_count": null,
   "id": "85e4d23e",
   "metadata": {},
   "outputs": [],
   "source": [
    "prompt_value.to_messages()"
   ]
  },
  {
   "cell_type": "code",
   "execution_count": null,
   "id": "7c4fd8a6",
   "metadata": {},
   "outputs": [],
   "source": [
    "model_output = model.invoke(prompt_value.to_messages())\n"
   ]
  },
  {
   "cell_type": "code",
   "execution_count": null,
   "id": "2c2cba8a",
   "metadata": {},
   "outputs": [],
   "source": []
  },
  {
   "cell_type": "code",
   "execution_count": null,
   "id": "4af2b284",
   "metadata": {},
   "outputs": [],
   "source": []
  }
 ],
 "metadata": {
  "kernelspec": {
   "display_name": "Python 3",
   "language": "python",
   "name": "python3"
  },
  "language_info": {
   "codemirror_mode": {
    "name": "ipython",
    "version": 3
   },
   "file_extension": ".py",
   "mimetype": "text/x-python",
   "name": "python",
   "nbconvert_exporter": "python",
   "pygments_lexer": "ipython3",
   "version": "3.8.8"
  }
 },
 "nbformat": 4,
 "nbformat_minor": 5
}
