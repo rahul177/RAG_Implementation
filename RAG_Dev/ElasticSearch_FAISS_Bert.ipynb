{
 "cells": [
  {
   "cell_type": "code",
   "execution_count": null,
   "id": "802fea71",
   "metadata": {},
   "outputs": [],
   "source": [
    "from elasticsearch import Elasticsearch\n",
    "\n",
    "# Initialize Elastic Search client\n",
    "es = Elasticsearch()\n",
    "\n",
    "# Sample document to index\n",
    "documents = [\n",
    "    {\"id\": 1, \"text\": \"What is semantic search?\", \"metadata\": {\"category\": \"AI\"}},\n",
    "    {\"id\": 2, \"text\": \"How does FAISS work?\", \"metadata\": {\"category\": \"ML\"}}\n",
    "]\n",
    "\n",
    "# Index documents in Elastic Search\n",
    "for doc in documents:\n",
    "    es.index(index=\"documents\", id=doc[\"id\"], document=doc)"
   ]
  },
  {
   "cell_type": "code",
   "execution_count": null,
   "id": "2577c780",
   "metadata": {},
   "outputs": [],
   "source": [
    "from transformers import AutoTokenizer, AutoModel\n",
    "import faiss\n",
    "import numpy as np\n",
    "\n",
    "# Load pre-trained BERT model and tokenizer\n",
    "model_name = \"sentence-transformers/all-MiniLM-L6-v2\"\n",
    "tokenizer = AutoTokenizer.from_pretrained(model_name)\n",
    "model = AutoModel.from_pretrained(model_name)\n",
    "\n",
    "# Generate embeddings\n",
    "texts = [\"What is semantic search?\", \"How does FAISS work?\"]\n",
    "inputs = tokenizer(texts, return_tensors=\"pt\", padding=True, truncation=True)\n",
    "with torch.no_grad():\n",
    "    embeddings = model(**inputs).pooler_output\n",
    "\n",
    "# Convert embeddings to NumPy array and index in FAISS\n",
    "embedding_vectors = embeddings.detach().numpy().astype('float32')\n",
    "dimension = embedding_vectors.shape[1]\n",
    "\n",
    "# Create FAISS index\n",
    "faiss_index = faiss.IndexFlatL2(dimension)\n",
    "faiss_index.add(embedding_vectors)"
   ]
  },
  {
   "cell_type": "code",
   "execution_count": null,
   "id": "3d3da247",
   "metadata": {},
   "outputs": [],
   "source": [
    "query = \"semantic search\"\n",
    "response = es.search(index=\"documents\", query={\"match\": {\"text\": query}})\n",
    "es_results = response[\"hits\"][\"hits\"]"
   ]
  },
  {
   "cell_type": "code",
   "execution_count": null,
   "id": "b1d79921",
   "metadata": {},
   "outputs": [],
   "source": [
    "query_embedding = model(**tokenizer(query, return_tensors=\"pt\", truncation=True)).pooler_output.detach().numpy()\n",
    "distances, indices = faiss_index.search(query_embedding, k=5)\n",
    "\n",
    "# Retrieve corresponding documents\n",
    "faiss_results = [{\"id\": i, \"distance\": d} for i, d in zip(indices[0], distances[0])]"
   ]
  },
  {
   "cell_type": "code",
   "execution_count": null,
   "id": "acec75f1",
   "metadata": {},
   "outputs": [],
   "source": [
    "def combine_results(es_results, faiss_results):\n",
    "    # Map FAISS results to their IDs\n",
    "    faiss_scores = {res[\"id\"]: 1 / (1 + res[\"distance\"]) for res in faiss_results}\n",
    "\n",
    "    # Merge and rank results\n",
    "    combined_results = []\n",
    "    for es_res in es_results:\n",
    "        doc_id = int(es_res[\"_id\"])\n",
    "        score = es_res[\"_score\"] + faiss_scores.get(doc_id, 0)  # Combine scores\n",
    "        combined_results.append({\"id\": doc_id, \"score\": score, \"text\": es_res[\"_source\"][\"text\"]})\n",
    "\n",
    "    # Sort by combined score\n",
    "    combined_results.sort(key=lambda x: x[\"score\"], reverse=True)\n",
    "    return combined_results\n",
    "\n",
    "final_results = combine_results(es_results, faiss_results)"
   ]
  },
  {
   "cell_type": "code",
   "execution_count": null,
   "id": "4f69991a",
   "metadata": {},
   "outputs": [],
   "source": [
    "for result in final_results:\n",
    "    print(f\"ID: {result['id']}, Score: {result['score']}, Text: {result['text']}\")"
   ]
  }
 ],
 "metadata": {
  "kernelspec": {
   "display_name": "Python 3",
   "language": "python",
   "name": "python3"
  },
  "language_info": {
   "codemirror_mode": {
    "name": "ipython",
    "version": 3
   },
   "file_extension": ".py",
   "mimetype": "text/x-python",
   "name": "python",
   "nbconvert_exporter": "python",
   "pygments_lexer": "ipython3",
   "version": "3.8.8"
  }
 },
 "nbformat": 4,
 "nbformat_minor": 5
}
